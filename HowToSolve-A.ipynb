{
 "cells": [
  {
   "cell_type": "markdown",
   "metadata": {},
   "source": [
    "# ICPC 2006 at UCSY\n",
    "\n",
    "<http://www.ucsy.edu.mm/ucsy/pages/2016_AR_Yangon_Contest_Problems.pdf>\n",
    "\n",
    "\n",
    "## How to solve Problem A (Evaluation Fully Parenthesized Expression)\n",
    "\n",
    "```\n",
    "Example: (1+(23*345))\n",
    "```\n",
    "\n",
    "### 1st step\n",
    "Define a function that takes exact 3 parameters, 2nd parameter is operator ('+', '-', '\\*', '/'), 1st and 3rd parameter are numeric value or List. If the parameter is List, call the function recursively."
   ]
  },
  {
   "cell_type": "code",
   "execution_count": null,
   "metadata": {
    "collapsed": true
   },
   "outputs": [],
   "source": [
    "def eval_formula3(a, ope, b):\n",
    "    '''\n",
    "    Input: a,b numeric value or List of 3 element\n",
    "           ope: '+', '-', '*', '/'\n",
    "    Return evaluated value\n",
    "    '''\n",
    "    \n",
    "    if isinstance(a, list):\n",
    "        a = eval_formula3(a[0], a[1], a[2])\n",
    "    if isinstance(b, list):\n",
    "        b = eval_formula3(b[0], b[1], b[2])\n",
    "        \n",
    "    if ope == '+':\n",
    "        return a+b\n",
    "    elif ope == '-':\n",
    "        return a-b\n",
    "    elif ope == '*':\n",
    "        return a*b\n",
    "    elif ope == '/':\n",
    "        return a/b\n",
    "    else:  # invalid argument\n",
    "        raise ValueError('invalid operator: ', ope)"
   ]
  },
  {
   "cell_type": "code",
   "execution_count": null,
   "metadata": {
    "collapsed": true
   },
   "outputs": [],
   "source": [
    "# Test eval_formula3\n",
    "def test_eval_formula3():\n",
    "    print('1st: ', eval_formula3(1, '+', 2))\n",
    "    print('2nd: ', eval_formula3(1, '+', [23, '*', 345]))\n",
    "    print('3rd: ', eval_formula3([2, '+', 3], '+', [[[2, '-', 1], '*', 2], '*', 5.0]))\n",
    "    eval_formula3(2, 'x', 1)  # force error\n",
    "    \n",
    "#test_eval_formula3()"
   ]
  },
  {
   "cell_type": "markdown",
   "metadata": {},
   "source": [
    "### 2nd step: Define eval_list()\n",
    "\n",
    "Modify eval_formula3() to take a nuemeric value or List which contains 1 to 3 element. If the List contains 1 element, the element is numeric value or List, if the List contains 2 elements, first element shall be a sign ('+' or '-')."
   ]
  },
  {
   "cell_type": "code",
   "execution_count": null,
   "metadata": {
    "collapsed": true
   },
   "outputs": [],
   "source": [
    "def eval_list(aList):\n",
    "    '''\n",
    "    aList: nuemeric value(integer or float) or List\n",
    "    return: evalueted nuemeric value\n",
    "    '''\n",
    "    \n",
    "    if isinstance(aList, int) or isinstance(aList, float):\n",
    "        return aList\n",
    "    \n",
    "    if len(aList) == 1:\n",
    "        if isinstance(aList[0], list):\n",
    "            return eval_list(aList[0])\n",
    "        else:\n",
    "            return aList[0]\n",
    "        \n",
    "    elif len(aList) == 2:\n",
    "        if aList[0] == '+':\n",
    "            return eval_list(aList[1])\n",
    "        elif aList[0] == '-':\n",
    "            return -1 * eval_list(aList[1])\n",
    "        else:\n",
    "            raise ValueError('shall be + or -', aList[0])\n",
    "        \n",
    "    elif len(aList) == 3:\n",
    "        ope = aList[1]  # 2nd element is operator\n",
    "        if ope == '+':\n",
    "            return eval_list(aList[0]) + eval_list(aList[2])\n",
    "        elif ope == '-':\n",
    "            return eval_list(aList[0]) - eval_list(aList[2])\n",
    "        elif ope == '*':\n",
    "            return eval_list(aList[0]) * eval_list(aList[2])\n",
    "        elif ope == '/':\n",
    "            return eval_list(aList[0]) / eval_list(aList[2])\n",
    "        else:\n",
    "            raise ValueError('Invalid operator', ope)\n",
    "            \n",
    "    else:\n",
    "        raise ValueError('Invalid argument to eval_list', aList)"
   ]
  },
  {
   "cell_type": "code",
   "execution_count": null,
   "metadata": {
    "collapsed": true
   },
   "outputs": [],
   "source": [
    "# test eval_list()\n",
    "def test_eval_list():\n",
    "    print('expect 1: ', eval_list(1))\n",
    "    print('expect 2: ', eval_list([2]))\n",
    "    print('expect 3: ', eval_list([[3]]))\n",
    "    \n",
    "    print('expect 4: ', eval_list(['+', 4]))\n",
    "    print('expect -5: ', eval_list(['-', 5]))\n",
    "    print('expect 6: ', eval_list(['-', ['-', 6]]))\n",
    "    \n",
    "    print('expect 2: ', eval_list([1, '+', 1]))\n",
    "    print('expect 6: ', eval_list([[1, '+', 2], '+', 3]))\n",
    "    print('expect -6: ', eval_list(['-', [[1, '+', 2], '+', 3]]))\n",
    "    \n",
    "    # error test\n",
    "    #print(eval_list(['*', 3]))\n",
    "    #print(eval_list([1, '$', 1]))\n",
    "    #print(eval_list([1, '+', 1, '+', 1]))\n",
    "    #print(eval_list([]))\n",
    "    \n",
    "# test_eval_list()"
   ]
  },
  {
   "cell_type": "markdown",
   "metadata": {},
   "source": [
    "### 3rd step: Create Token List from Input String\n",
    "\n",
    "```\n",
    "'(1+(23*345)' -> ['1', '+', '(', '23', '*', '345', ')']\n",
    "```"
   ]
  },
  {
   "cell_type": "code",
   "execution_count": null,
   "metadata": {
    "collapsed": true
   },
   "outputs": [],
   "source": [
    "def str2token(formula):\n",
    "    '''\n",
    "        input: String\n",
    "        return: List of Token\n",
    "    '''\n",
    "    digit = ''\n",
    "    token_list = list()\n",
    "\n",
    "#    print(formula, file=sys.stderr)\n",
    "    for c in formula:\n",
    "        if c in '()+-*/':\n",
    "            if digit != '':\n",
    "                token_list.append(digit)\n",
    "                digit = ''\n",
    "            token_list.append(c)\n",
    "        elif c in '0123456789.':\n",
    "            digit += c\n",
    "        elif c in '\\n':\n",
    "            if digit != '':\n",
    "                token_list.append(digit)\n",
    "                digit = ''\n",
    "        else:\n",
    "            raise ValueError\n",
    "\n",
    "    if digit != '':\n",
    "        token_list.append(digit)\n",
    "#    print(token_list, file=sys.stderr)\n",
    "    return token_list\n"
   ]
  },
  {
   "cell_type": "code",
   "execution_count": null,
   "metadata": {
    "collapsed": true
   },
   "outputs": [],
   "source": [
    "def test_str2token():\n",
    "    print(str2token('(12+345)'))\n",
    "    print(str2token('((1+1)*2)'))\n",
    "    print(str2token('1.414*3.14'))\n",
    "    \n",
    "# test_str2token()"
   ]
  },
  {
   "cell_type": "markdown",
   "metadata": {},
   "source": [
    "### 4th Step: Create nested List ( up to 3 element ) from Token List\n",
    "\n",
    "\n",
    "```\n",
    "['1', '+', '(', '23', '*', '345', ')'] -> [1.0, '+', [23.0, '*', 345.0] ]\n",
    "```\n",
    "\n",
    "Flat list of 7 elements -> Nested List of 3 elements (3rd element is a list of 3 element)  \n",
    "Convert string of digits to float so that eval_list can handle it."
   ]
  },
  {
   "cell_type": "code",
   "execution_count": null,
   "metadata": {
    "collapsed": true
   },
   "outputs": [],
   "source": [
    "def token2list(token_list):\n",
    "    '''\n",
    "        input: List of Token\n",
    "        return: Up to 3 element list, each element may be a list\n",
    "    '''\n",
    "#    print('token2list:',token_list, file=sys.stderr)\n",
    "    nested_list = list()\n",
    "    p = 0\n",
    "    while p < len(token_list):\n",
    "        if token_list[p] == '(':\n",
    "            open_p = 1\n",
    "            for q in range(p+1,len(token_list)):\n",
    "                if token_list[q] == ')':\n",
    "                    open_p -= 1\n",
    "                    if open_p == 0:   # matching close paren found\n",
    "                        break\n",
    "                elif token_list[q] == '(':\n",
    "                    open_p += 1\n",
    "\n",
    "            if open_p != 0:\n",
    "                print('Improper input file, number of parentesis not match')\n",
    "                raise ValueError\n",
    "\n",
    "            nested_list.append(token2list(token_list[p+1:q]))\n",
    "            p = q\n",
    "        elif token_list[p] in '+-*/':\n",
    "            nested_list.append(token_list[p])\n",
    "        else:\n",
    "            nested_list.append(float(token_list[p]))\n",
    "\n",
    "        p += 1\n",
    "\n",
    "#    print(nested_list, file=sys.stderr)\n",
    "    return nested_list"
   ]
  },
  {
   "cell_type": "code",
   "execution_count": null,
   "metadata": {
    "collapsed": true
   },
   "outputs": [],
   "source": [
    "def test_token2list():\n",
    "    print(token2list(str2token('1+1')))\n",
    "    print(token2list(str2token('((-1)+2)+2')))\n",
    "    \n",
    "# test_token2list()"
   ]
  },
  {
   "cell_type": "markdown",
   "metadata": {},
   "source": [
    "### Final Step: Handle input file and exception handling\n",
    "\n",
    "Read input file (a.in), 1st line contains number of test case, 2nd and later are formula string to be evaluated.  \n",
    "If **zero devide** is detected, print **Infinity**."
   ]
  },
  {
   "cell_type": "code",
   "execution_count": null,
   "metadata": {
    "collapsed": true
   },
   "outputs": [],
   "source": [
    "infile = open('a.in', 'r')\n",
    "num_test = int(infile.readline())\n",
    "\n",
    "for i in range(num_test):\n",
    "    fomula = infile.readline()\n",
    "    token_list = str2token(fomula)\n",
    "    nested_list = token2list(token_list)\n",
    "    try:\n",
    "        result = eval_list(nested_list)\n",
    "    except ZeroDivisionError:\n",
    "        print('Infinity')\n",
    "    else:\n",
    "        print(float(result))"
   ]
  }
 ],
 "metadata": {
  "kernelspec": {
   "display_name": "Python 3",
   "language": "python",
   "name": "python3"
  },
  "language_info": {
   "codemirror_mode": {
    "name": "ipython",
    "version": 3
   },
   "file_extension": ".py",
   "mimetype": "text/x-python",
   "name": "python",
   "nbconvert_exporter": "python",
   "pygments_lexer": "ipython3",
   "version": "3.6.2"
  }
 },
 "nbformat": 4,
 "nbformat_minor": 2
}
