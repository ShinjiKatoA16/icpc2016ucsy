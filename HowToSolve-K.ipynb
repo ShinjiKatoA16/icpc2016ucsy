{
 "cells": [
  {
   "cell_type": "code",
   "execution_count": null,
   "metadata": {
    "collapsed": true
   },
   "outputs": [],
   "source": [
    "%autosave 0"
   ]
  },
  {
   "cell_type": "markdown",
   "metadata": {},
   "source": [
    "# ICPC 2016 UCSY\n",
    "\n",
    "http://www.ucsy.edu.mm/ucsy/pages/2016_AR_Yangon_Contest_Problems.pdf\n",
    "\n",
    "## Problem K (One Time Pad)\n",
    "\n",
    "### Input\n",
    "\n",
    "- 1 Line: 1 integer, Number of Test Case\n",
    "   + 1 Line: Message text to be encrypted\n",
    "   + 1 Line: Encryption Key\n",
    "   \n",
    "### Output\n",
    "\n",
    "For each test case:\n",
    "\n",
    "Encrypted message\n",
    "\n",
    "### Sample Input\n",
    "\n",
    "```\n",
    "3\n",
    "prime minister\n",
    "1 2 3 4 4 5 5 5 6 7 1 2 3 3\n",
    "contest\n",
    "2 2 2 3 3 3 4\n",
    "yes, i will do.\n",
    "1 2 3 4 5 6 7 8 9 10 11 12 13 14 15\n",
    "```\n",
    "\n",
    "### Sample Output\n",
    "\n",
    "```\n",
    "qtlqi?rntptvhu\n",
    "eqpwhvx\n",
    "zgv??o?ervw?qc?\n",
    "```\n",
    "\n",
    "### Explanation\n",
    "\n",
    "Space, Canma, Period are converted to **'?'**, because they are not in lower case alphabet. 'o' (+14) of 3rd test case is converted to 'c' which overflows 'z'.\n",
    "\n",
    "Take care of big offset and negative offset."
   ]
  },
  {
   "cell_type": "code",
   "execution_count": null,
   "metadata": {},
   "outputs": [],
   "source": [
    "# Hint\n",
    "\n",
    "s = 'abcdefg'\n",
    "print ('c' in s)  # is 'c' in string s ?\n",
    "print (s.index('c')) # Print  first index=location of 'c'\n",
    "print (s[s.index('c') + 2])"
   ]
  },
  {
   "cell_type": "code",
   "execution_count": null,
   "metadata": {},
   "outputs": [],
   "source": [
    "# Useful data\n",
    "\n",
    "import string\n",
    "help (string)\n",
    "\n",
    "# print(stging.??????_????????)"
   ]
  }
 ],
 "metadata": {
  "kernelspec": {
   "display_name": "Python 3",
   "language": "python",
   "name": "python3"
  },
  "language_info": {
   "codemirror_mode": {
    "name": "ipython",
    "version": 3
   },
   "file_extension": ".py",
   "mimetype": "text/x-python",
   "name": "python",
   "nbconvert_exporter": "python",
   "pygments_lexer": "ipython3",
   "version": "3.6.2"
  }
 },
 "nbformat": 4,
 "nbformat_minor": 2
}
