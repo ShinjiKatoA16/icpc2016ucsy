{
 "cells": [
  {
   "cell_type": "code",
   "execution_count": null,
   "metadata": {
    "collapsed": true
   },
   "outputs": [],
   "source": [
    "%autosave 0"
   ]
  },
  {
   "cell_type": "markdown",
   "metadata": {},
   "source": [
    "# ICPC 2016 UCSY\n",
    "\n",
    "http://www.ucsy.edu.mm/ucsy/pages/2016_AR_Yangon_Contest_Problems.pdf\n",
    "\n",
    "## Problem L (Passwords for Sweethearts)\n",
    "\n",
    "### Input\n",
    "\n",
    "- 1 Line: Number of Test Case (t)\n",
    "- t Lines: 2 strings (Name to be combined)\n",
    "\n",
    "### Output\n",
    "\n",
    "For each test case:\n",
    "\n",
    "- Print all valid password (combined name)\n",
    "- Number of password\n",
    "\n",
    "### Sample Input\n",
    "\n",
    "```\n",
    "3\n",
    "atn cl\n",
    "kp py\n",
    "aaa aaaa\n",
    "```\n",
    "\n",
    "### Sample Output\n",
    "\n",
    "```\n",
    "atncl\n",
    "atcnl\n",
    "actnl\n",
    "catnl\n",
    "atcln\n",
    "actln\n",
    "catln\n",
    "acltn\n",
    "caltn\n",
    "clatn\n",
    "10\n",
    "kppy\n",
    "pkpy\n",
    "kpyp\n",
    "pkyp\n",
    "pykp\n",
    "5\n",
    "aaaaaaa\n",
    "1\n",
    "```\n",
    "\n",
    "### Explanation\n",
    "\n",
    "If first name is $a_1 a_2$ and second name is $b_1 b_2$, following combination are valid.\n",
    "\n",
    "- $a_1 a_2 b_1 b_2$\n",
    "- $a_1 b_1 a_2 b_2$\n",
    "- $a_1 b_1 b_2 a_2$\n",
    "- $b_1 a_1 a_2 b_2$\n",
    "- $b_1 a_1 b_2 a_2$\n",
    "- $b_1 b_2 a_1 a_2$\n",
    "\n",
    "The order of $a_1$ and $a_2$ are not reversed (also $b_1$ and $b_2$).\n",
    "Total number of this combination is a ${}_4 C_2$ (select 2 ($a_1, a_2$) locations from output size: 2+2).\n",
    "\n",
    "Same output strings are counted as 1, so number of case-2 is 5 and case-3 is 1.\n",
    "\n",
    "#### Tips\n",
    "\n",
    "In case of combination of 2, treating it as binary number is a easy solution. In case of above $a_1 a_2, b_1 b_2$ case and assuming that 1b is assinged to second string, valid combination can be represented as 0011b, 0101b, 0110b, 1001b, 1010b, 1100b. (all of them have just 2 of '1')"
   ]
  },
  {
   "cell_type": "code",
   "execution_count": null,
   "metadata": {},
   "outputs": [],
   "source": [
    "# Sample to show valid combination of 5C2 (select 2 from 5)\n",
    "\n",
    "def count1b(n):\n",
    "    num_bit1 = 0\n",
    "    while n > 0:\n",
    "        if n & 1:\n",
    "            num_bit1 += 1\n",
    "        n >>= 1  #  n //= 2\n",
    "        \n",
    "    return num_bit1\n",
    "\n",
    "\n",
    "for i in range(2**5-1):  # 00000b to 11111b\n",
    "    if count1b(i) == 2:\n",
    "        print(bin(i))"
   ]
  }
 ],
 "metadata": {
  "kernelspec": {
   "display_name": "Python 3",
   "language": "python",
   "name": "python3"
  },
  "language_info": {
   "codemirror_mode": {
    "name": "ipython",
    "version": 3
   },
   "file_extension": ".py",
   "mimetype": "text/x-python",
   "name": "python",
   "nbconvert_exporter": "python",
   "pygments_lexer": "ipython3",
   "version": "3.6.2"
  }
 },
 "nbformat": 4,
 "nbformat_minor": 2
}
