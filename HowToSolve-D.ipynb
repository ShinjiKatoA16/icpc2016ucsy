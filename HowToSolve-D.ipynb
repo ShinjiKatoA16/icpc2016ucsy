{
 "cells": [
  {
   "cell_type": "code",
   "execution_count": null,
   "metadata": {
    "collapsed": true
   },
   "outputs": [],
   "source": [
    "%autosave 0"
   ]
  },
  {
   "cell_type": "markdown",
   "metadata": {},
   "source": [
    "# ICPC 2016 UCSY\n",
    "\n",
    "http://www.ucsy.edu.mm/ucsy/pages/2016_AR_Yangon_Contest_Problems.pdf\n",
    "\n",
    "## Problem D (Bakery Delivery Schedule)\n",
    "\n",
    "### Input\n",
    "\n",
    "- 1 Line: 1 integer, Number of Test Case\n",
    "   + n Lines: Customer location(s) (0-200)\n",
    "   + 1 Line: -999  (End Mark of Customer location)\n",
    "   + 1 Line: Start Location (0-200)\n",
    "   \n",
    "### Output\n",
    "\n",
    "For each test case:\n",
    "\n",
    "- 1 Line: 'Upword_First' or 'Downword_First'\n",
    "- 1 Line: Total distance to move from start location to last customer\n",
    "\n",
    "### Sample Input\n",
    "\n",
    "```\n",
    "2\n",
    "23\n",
    "89\n",
    "132\n",
    "42\n",
    "187\n",
    "-999\n",
    "100\n",
    "98\n",
    "183\n",
    "37\n",
    "122\n",
    "130\n",
    "65\n",
    "78\n",
    "-999\n",
    "130\n",
    "```\n",
    "\n",
    "### Sample Output\n",
    "\n",
    "```\n",
    "Downward_First\n",
    "241\n",
    "Upward_First\n",
    "199\n",
    "```"
   ]
  },
  {
   "cell_type": "markdown",
   "metadata": {},
   "source": [
    "### Explanation\n",
    "\n",
    "Because each delivery does not affect total distance, only furtherest locations (Max and Min value) need to be checked.\n",
    "\n",
    "Take care of the irregular situations (unsusual conditions)\n",
    "\n",
    "- Start location is not between Max and Min\n",
    "- Only 1 Customer\n",
    "- Max or Min is same as Start location\n",
    "- Distance between Start location to Max and Min are same"
   ]
  },
  {
   "cell_type": "markdown",
   "metadata": {},
   "source": [
    "### Practice (Input Data handling)\n",
    "\n",
    "- Input file name: d.in\n",
    "- Input format: as described above\n",
    "\n",
    "- Sample Output:\n",
    "\n",
    "```\n",
    "Case 1: Max=187 Min=23 Start=100\n",
    "Case 2: Max=183 Min=37 Start=130\n",
    "```"
   ]
  },
  {
   "cell_type": "code",
   "execution_count": null,
   "metadata": {},
   "outputs": [],
   "source": [
    "infile = open('d.in', 'r')\n",
    "num_tc = int(infile.readline())\n",
    "\n",
    "# It's OK to change Initial Value to other than None\n",
    "max_val = None\n",
    "min_val = None\n",
    "start_loc = None\n",
    "\n",
    "for i in range(num_tc):\n",
    "    # read customer data and set max_val and min_val properly\n",
    "    # find -999 and set start location\n",
    "    print('Case ', i+1, ': Max=', max_val, ' Min=', min_val, ' Start=', start_loc, sep='')\n",
    "    \n",
    "infile.close()"
   ]
  }
 ],
 "metadata": {
  "kernelspec": {
   "display_name": "Python 3",
   "language": "python",
   "name": "python3"
  },
  "language_info": {
   "codemirror_mode": {
    "name": "ipython",
    "version": 3
   },
   "file_extension": ".py",
   "mimetype": "text/x-python",
   "name": "python",
   "nbconvert_exporter": "python",
   "pygments_lexer": "ipython3",
   "version": "3.6.2"
  }
 },
 "nbformat": 4,
 "nbformat_minor": 2
}
